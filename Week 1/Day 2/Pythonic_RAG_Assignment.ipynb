{
  "cells": [
    {
      "cell_type": "markdown",
      "metadata": {
        "id": "lElF3o5PR6ys"
      },
      "source": [
        "# Your First RAG Application\n",
        "\n",
        "In this notebook, we'll walk you through each of the components that are involved in a simple RAG application.\n",
        "\n",
        "We won't be leveraging any fancy tools, just the OpenAI Python SDK, Numpy, and some classic Python.\n",
        "\n",
        "> NOTE: This was done with Python 3.11.4.\n",
        "\n",
        "> NOTE: There might be [compatibility issues](https://github.com/wandb/wandb/issues/7683) if you're on NVIDIA driver >552.44 As an interim solution - you can rollback your drivers to the 552.44."
      ]
    },
    {
      "cell_type": "markdown",
      "metadata": {
        "id": "5CtcL8P8R6yt"
      },
      "source": [
        "## Table of Contents:\n",
        "\n",
        "- Task 1: Imports and Utilities\n",
        "- Task 2: Documents\n",
        "- Task 3: Embeddings and Vectors\n",
        "- Task 4: Prompts\n",
        "- Task 5: Retrieval Augmented Generation\n",
        "  - 🚧 Activity #1: Augment RAG"
      ]
    },
    {
      "cell_type": "markdown",
      "metadata": {
        "id": "1Dz6GYilR6yt"
      },
      "source": [
        "Let's look at a rather complicated looking visual representation of a basic RAG application.\n",
        "\n",
        "<img src=\"https://i.imgur.com/vD8b016.png\" />"
      ]
    },
    {
      "cell_type": "markdown",
      "metadata": {
        "id": "PjmC0KFtR6yt"
      },
      "source": [
        "## Task 1: Imports and Utility\n",
        "\n",
        "We're just doing some imports and enabling `async` to work within the Jupyter environment here, nothing too crazy!"
      ]
    },
    {
      "cell_type": "code",
      "execution_count": 2,
      "metadata": {
        "colab": {
          "base_uri": "https://localhost:8080/"
        },
        "id": "H7VEzqziR6yt",
        "outputId": "f873dd3b-55a0-4e00-ecf4-e2a0fe3af327"
      },
      "outputs": [],
      "source": [
        "!pip install -qU numpy matplotlib plotly pandas scipy scikit-learn openai python-dotenv"
      ]
    },
    {
      "cell_type": "code",
      "execution_count": 3,
      "metadata": {
        "id": "Z1dyrG4hR6yt"
      },
      "outputs": [],
      "source": [
        "from aimakerspace.text_utils import TextFileLoader, CharacterTextSplitter\n",
        "from aimakerspace.vectordatabase import VectorDatabase\n",
        "import asyncio"
      ]
    },
    {
      "cell_type": "code",
      "execution_count": 4,
      "metadata": {
        "id": "9OrFZRnER6yt"
      },
      "outputs": [],
      "source": [
        "import nest_asyncio\n",
        "nest_asyncio.apply()"
      ]
    },
    {
      "cell_type": "markdown",
      "metadata": {
        "id": "M0jGnpQsR6yu"
      },
      "source": [
        "## Task 2: Documents\n",
        "\n",
        "We'll be concerning ourselves with this part of the flow in the following section:\n",
        "\n",
        "<img src=\"https://i.imgur.com/jTm9gjk.png\" />"
      ]
    },
    {
      "cell_type": "markdown",
      "metadata": {
        "id": "-SFPWvRUR6yu"
      },
      "source": [
        "### Loading Source Documents\n",
        "\n",
        "So, first things first, we need some documents to work with.\n",
        "\n",
        "While we could work directly with the `.txt` files (or whatever file-types you wanted to extend this to) we can instead do some batch processing of those documents at the beginning in order to store them in a more machine compatible format.\n",
        "\n",
        "In this case, we're going to parse our text file into a single document in memory.\n",
        "\n",
        "Let's look at the relevant bits of the `TextFileLoader` class:\n",
        "\n",
        "```python\n",
        "def load_file(self):\n",
        "        with open(self.path, \"r\", encoding=self.encoding) as f:\n",
        "            self.documents.append(f.read())\n",
        "```\n",
        "\n",
        "We're simply loading the document using the built in `open` method, and storing that output in our `self.documents` list.\n"
      ]
    },
    {
      "cell_type": "code",
      "execution_count": 5,
      "metadata": {
        "colab": {
          "base_uri": "https://localhost:8080/"
        },
        "id": "Ia2sUEuGR6yu",
        "outputId": "84937ecc-c35f-4c4a-a4ab-9da72625954c"
      },
      "outputs": [
        {
          "data": {
            "text/plain": [
              "1"
            ]
          },
          "execution_count": 5,
          "metadata": {},
          "output_type": "execute_result"
        }
      ],
      "source": [
        "text_loader = TextFileLoader(\"data/PMarcaBlogs.txt\")\n",
        "documents = text_loader.load_documents()\n",
        "len(documents)"
      ]
    },
    {
      "cell_type": "code",
      "execution_count": 7,
      "metadata": {
        "colab": {
          "base_uri": "https://localhost:8080/"
        },
        "id": "bV-tj5WFR6yu",
        "outputId": "674eb315-1ff3-4597-bcf5-38ece0a812ac"
      },
      "outputs": [
        {
          "name": "stdout",
          "output_type": "stream",
          "text": [
            "\n",
            "The Pmarca Blog Archives\n",
            "(select posts from 2007-2009)\n",
            "Marc Andreessen\n",
            "copyright: Andreessen Horowitz\n",
            "cover design: Jessica Hagy\n",
            "produced using: Pressbooks\n",
            "Contents\n",
            "THE PMARCA GUIDE TO STARTUPS\n",
            "Part\n"
          ]
        }
      ],
      "source": [
        "print(documents[0][:200])"
      ]
    },
    {
      "cell_type": "markdown",
      "metadata": {
        "id": "nHlTvCzYR6yu"
      },
      "source": [
        "### Splitting Text Into Chunks\n",
        "\n",
        "As we can see, there is one massive document.\n",
        "\n",
        "We'll want to chunk the document into smaller parts so it's easier to pass the most relevant snippets to the LLM.\n",
        "\n",
        "There is no fixed way to split/chunk documents - and you'll need to rely on some intuition as well as knowing your data *very* well in order to build the most robust system.\n",
        "\n",
        "For this toy example, we'll just split blindly on length.\n",
        "\n",
        ">There's an opportunity to clear up some terminology here, for this course we will be stick to the following:\n",
        ">\n",
        ">- \"source documents\" : The `.txt`, `.pdf`, `.html`, ..., files that make up the files and information we start with in its raw format\n",
        ">- \"document(s)\" : single (or more) text object(s)\n",
        ">- \"corpus\" : the combination of all of our documents"
      ]
    },
    {
      "cell_type": "markdown",
      "metadata": {
        "id": "2G6Voc0jR6yv"
      },
      "source": [
        "As you can imagine (though it's not specifically true in this toy example) the idea of splitting documents is to break them into managable sized chunks that retain the most relevant local context."
      ]
    },
    {
      "cell_type": "code",
      "execution_count": 8,
      "metadata": {
        "colab": {
          "base_uri": "https://localhost:8080/"
        },
        "id": "UMC4tsEmR6yv",
        "outputId": "08689c0b-57cd-4040-942a-8193e997f5cb"
      },
      "outputs": [
        {
          "data": {
            "text/plain": [
              "373"
            ]
          },
          "execution_count": 8,
          "metadata": {},
          "output_type": "execute_result"
        }
      ],
      "source": [
        "text_splitter = CharacterTextSplitter()\n",
        "split_documents = text_splitter.split_texts(documents)\n",
        "len(split_documents)"
      ]
    },
    {
      "cell_type": "markdown",
      "metadata": {
        "id": "W2wKT0WLR6yv"
      },
      "source": [
        "Let's take a look at some of the documents we've managed to split."
      ]
    },
    {
      "cell_type": "code",
      "execution_count": 69,
      "metadata": {
        "colab": {
          "base_uri": "https://localhost:8080/"
        },
        "id": "vcYMwWJoR6yv",
        "outputId": "20d69876-feca-4826-b4be-32915276987a"
      },
      "outputs": [
        {
          "data": {
            "text/plain": [
              "['\\ufeff\\nThe Pmarca Blog Archives\\n(select posts from 2007-2009)\\nMarc Andreessen\\ncopyright: Andreessen Horowitz\\ncover design: Jessica Hagy\\nproduced using: Pressbooks\\nContents\\nTHE PMARCA GUIDE TO STARTUPS\\nPart 1: Why not to do a startup 2\\nPart 2: When the VCs say \"no\" 10\\nPart 3: \"But I don\\'t know any VCs!\" 18\\nPart 4: The only thing that matters 25\\nPart 5: The Moby Dick theory of big companies 33\\nPart 6: How much funding is too little? Too much? 41\\nPart 7: Why a startup\\'s initial business plan doesn\\'t\\nmatter that much\\n49\\nTHE PMARCA GUIDE TO HIRING\\nPart 8: Hiring, managing, promoting, and Dring\\nexecutives\\n54\\nPart 9: How to hire a professional CEO 68\\nHow to hire the best people you\\'ve ever worked\\nwith\\n69\\nTHE PMARCA GUIDE TO BIG COMPANIES\\nPart 1: Turnaround! 82\\nPart 2: Retaining great people 86\\nTHE PMARCA GUIDE TO CAREER, PRODUCTIVITY,\\nAND SOME OTHER THINGS\\nIntroduction 97\\nPart 1: Opportunity 99\\nPart 2: Skills and education 107\\nPart 3: Where to go and why 120\\nThe Pmarca Guide to Personal Productivi',\n",
              " \"RCA GUIDE TO CAREER, PRODUCTIVITY,\\nAND SOME OTHER THINGS\\nIntroduction 97\\nPart 1: Opportunity 99\\nPart 2: Skills and education 107\\nPart 3: Where to go and why 120\\nThe Pmarca Guide to Personal Productivity 127\\nPSYCHOLOGY AND ENTREPRENEURSHIP\\nThe Psychology of Entrepreneurial Misjudgment:\\nBiases 1-6\\n142\\nAge and the Entrepreneur: Some data 154\\nLuck and the entrepreneur: The four kinds of luck 162\\nSerial Entrepreneurs 168\\nTHE BACK PAGES\\nTop 10 science Dction novelists of the '00s ... so far\\n(June 2007)\\n173\\nBubbles on the brain (October 2009) 180\\nOK, you're right, it IS a bubble (October 2009) 186\\nThe Pmarca Guide to\\nStartups\\nPart 1: Why not to do a startup\\nIn this series of posts I will walk through some of my accumulated knowledge and experience in building high-tech startups.\\nMy speciXc experience is from three companies I have cofounded: Netscape, sold to America Online in 1998 for $4.2\\nbillion; Opsware (formerly Loudcloud), a public soaware company with an approximately $1 billion market\",\n",
              " 'ence is from three companies I have cofounded: Netscape, sold to America Online in 1998 for $4.2\\nbillion; Opsware (formerly Loudcloud), a public soaware company with an approximately $1 billion market cap; and now\\nNing, a new, private consumer Internet company.\\nBut more generally, I’ve been fortunate enough to be involved\\nin and exposed to a broad range of other startups — maybe 40\\nor 50 in enough detail to know what I’m talking about — since\\narriving in Silicon Valley in 1994: as a board member, as an angel\\ninvestor, as an advisor, as a friend of various founders, and as a\\nparticipant in various venture capital funds.\\nThis series will focus on lessons learned from this entire crosssection of Silicon Valley startups — so don’t think that anything\\nI am talking about is referring to one of my own companies:\\nmost likely when I talk about a scenario I have seen or something I have experienced, it is from some other startup that I\\nam not naming but was involved with some other way than as a',\n",
              " 'y own companies:\\nmost likely when I talk about a scenario I have seen or something I have experienced, it is from some other startup that I\\nam not naming but was involved with some other way than as a\\nfounder.\\nFinally, much of my perspective is based on Silicon Valley and\\nthe environment that we have here — the culture, the people,\\nthe venture capital base, and so on. Some of it will travel well\\nto other regions and countries, some probably will not. Caveat\\nemptor.\\nWith all that out of the way, let’s start at the beginning: why not\\nto do a startup.\\nStartups, even in the wake of the crash of 2000, have become\\nimbued with a real mystique — you read a lot about how great\\nit is to do a startup, how much fun it is, what with the getting to\\ninvent the future, all the free meals, foosball tables, and all the\\nrest.\\nNow, it is true that there are a lot of great things about doing a\\nstartup. They include, in my experience:\\nMost fundamentally, the opportunity to be in control of your own\\ndestiny ',\n",
              " ' and all the\\nrest.\\nNow, it is true that there are a lot of great things about doing a\\nstartup. They include, in my experience:\\nMost fundamentally, the opportunity to be in control of your own\\ndestiny — you get to succeed or fail on your own, and you don’t\\nhave some bozo telling you what to do. For a certain kind of personality, this alone is reason enough to do a startup.\\nThe opportunity to create something new — the proverbial blank\\nsheet of paper. You have the ability — actually, the obligation\\n— to imagine a product that does not yet exist and bring it\\ninto existence, without any of the constraints normally faced by\\nlarger companies.\\nThe opportunity to have an impact on the world — to give people\\na new way to communicate, a new way to share information, a\\nnew way to work together, or anything else you can think of that\\nwould make the world a better place. Think it should be easier\\nfor low-income people to borrow money? Start Prosper. Think\\ntelevision should be opened up to an inXnit',\n",
              " 'ything else you can think of that\\nwould make the world a better place. Think it should be easier\\nfor low-income people to borrow money? Start Prosper. Think\\ntelevision should be opened up to an inXnite number of channels? Start Joost. Think that computers should be based on Unix\\nand open standards and not proprietary technology? Start Sun.\\nThe ability to create your ideal culture and work with a dream team\\nof people you get to assemble yourself. Want your culture to be\\nbased on people who have fun every day and enjoy working\\ntogether? Or, are hyper-competitive both in work and play? Or,\\nare super-focused on creating innovative new rocket science\\nPart 1: Why not to do a startup 3\\ntechnologies? Or, are global in perspective from day one? You\\nget to choose, and to build your culture and team to suit.\\nAnd Xnally, money — startups done right can of course be highly\\nlucrative. This is not just an issue of personal greed — when\\nthings go right, your team and employees will themselves do\\nvery ',\n",
              " 'to suit.\\nAnd Xnally, money — startups done right can of course be highly\\nlucrative. This is not just an issue of personal greed — when\\nthings go right, your team and employees will themselves do\\nvery well and will be able to support their families, send their\\nkids to college, and realize their dreams, and that’s really cool.\\nAnd if you’re really lucky, you as the entrepreneur can ultimately make profound philanthropic gias that change society\\nfor the better.\\nHowever, there are many more reasons to not do a startup.\\nFirst, and most importantly, realize that a startup puts you on\\nan emotional rollercoaster unlike anything you have ever experienced.\\nYou will Yip rapidly from a day in which you are euphorically\\nconvinced you are going to own the world, to a day in which\\ndoom seems only weeks away and you feel completely ruined,\\nand back again.\\nOver and over and over.\\nAnd I’m talking about what happens to stable entrepreneurs.\\nThere is so much uncertainty and so much risk around practically',\n",
              " 'way and you feel completely ruined,\\nand back again.\\nOver and over and over.\\nAnd I’m talking about what happens to stable entrepreneurs.\\nThere is so much uncertainty and so much risk around practically everything you are doing. Will the product ship on time?\\nWill it be fast enough? Will it have too many bugs? Will it be\\neasy to use? Will anyone use it? Will your competitor beat you\\nto market? Will you get any press coverage? Will anyone invest\\nin the company? Will that key new engineer join? Will your key\\nuser interface designer quit and go to Google? And on and on\\nand on…\\nSome days things will go really well and some things will go\\nreally poorly. And the level of stress that you’re under generally\\nwill magnify those transient data points into incredible highs\\nand unbelievable lows at whiplash speed and huge magnitude.\\nSound like fun?\\n4 The Pmarca Blog Archives\\nSecond, in a startup, absolutely nothing happens unless you make it\\nhappen.\\nThis one throws both founders and employees new to ',\n",
              " 'ash speed and huge magnitude.\\nSound like fun?\\n4 The Pmarca Blog Archives\\nSecond, in a startup, absolutely nothing happens unless you make it\\nhappen.\\nThis one throws both founders and employees new to startups.\\nIn an established company — no matter how poorly run or\\ndemoralized — things happen. They just happen. People come\\nin to work. Code gets written. User interfaces get designed.\\nServers get provisioned. Markets get analyzed. Pricing gets studied and determined. Sales calls get made. The wastebaskets get\\nemptied. And so on.\\nA startup has none of the established systems, rhythms, infrastructure that any established company has.\\nIn a startup it is very easy for the code to not get written, for the\\nuser interfaces to not get designed… for people to not come into\\nwork… and for the wastebaskets to not get emptied.\\nYou as the founder have to put all of these systems and routines\\nand habits in place and get everyone actually rowing — forget\\neven about rowing in the right direction: just ro',\n",
              " 'ets to not get emptied.\\nYou as the founder have to put all of these systems and routines\\nand habits in place and get everyone actually rowing — forget\\neven about rowing in the right direction: just rowing at all is\\nhard enough at the start.\\nAnd until you do, absolutely nothing happens.\\nUnless, of course, you do it yourself.\\nHave fun emptying those wastebaskets.\\nThird, you get told no — a lot.\\nUnless you’ve spent time in sales, you are probably not familiar\\nwith being told no a lot.\\nIt’s not so much fun.\\nGo watch Death of a Salesman and then Glengarry Glen Ross.\\nThat’s roughly what it’s like.\\nYou’re going to get told no by potential employees, potential\\ninvestors, potential customers, potential partners, reporters,\\nanalysts…\\nPart 1: Why not to do a startup 5\\nOver and over and over.\\nAnd when you do get a “yes”, half the time you’ll get a call two\\ndays later and it’ll turn out the answer has morphed into “no”.\\nBetter start working on your fake smile.\\nFourth, hiring is a huge pain in the a',\n",
              " ' you do get a “yes”, half the time you’ll get a call two\\ndays later and it’ll turn out the answer has morphed into “no”.\\nBetter start working on your fake smile.\\nFourth, hiring is a huge pain in the ass.\\nYou will be amazed how many windowshoppers you’ll deal with.\\nA lot of people think they want to be part of a startup, but when\\nthe time comes to leave their cushy job at HP or Apple, they\\nYinch — and stay.\\nGoing through the recruiting process and being seduced by a\\nstartup is heady stuW for your typical engineer or midlevel manager at a big company — you get to participate vicariously in the\\nthrill of a startup without actually having to join or do any of the\\nhard work.\\nAs a founder of a startup trying to hire your team, you’ll run into\\nthis again and again.\\nWhen Jim Clark decided to start a new company in 1994, I was\\none of about a dozen people at various Silicon Valley companies\\nhe was talking to about joining him in what became Netscape.\\nI was the only one who went all the way to sa',\n",
              " ' a new company in 1994, I was\\none of about a dozen people at various Silicon Valley companies\\nhe was talking to about joining him in what became Netscape.\\nI was the only one who went all the way to saying “yes” (largely\\nbecause I was 22 and had no reason not to do it).\\nThe rest Yinched and didn’t do it.\\nAnd this was Jim Clark, a legend in the industry who was coming\\noW of the most successful company in Silicon Valley in 1994 —\\nSilicon Graphics Inc.\\nHow easy do you think it’s going to be for you?\\nThen, once you do get through the windowshoppers and actually hire some people, your success rate on hiring is probably\\nnot going to be higher than 50%, and that’s if you’re good at it.\\nBy that I mean that half or more of the people you hire aren’t\\n6 The Pmarca Blog Archives\\ngoing to work out. They’re going to be too lazy, too slow, easily\\nrattled, political, bipolar, or psychotic.\\nAnd then you have to either live with them, or Xre them.\\nWhich ones of those sounds like fun?\\nFiah, God help you, ',\n",
              " '’re going to be too lazy, too slow, easily\\nrattled, political, bipolar, or psychotic.\\nAnd then you have to either live with them, or Xre them.\\nWhich ones of those sounds like fun?\\nFiah, God help you, at some point you’re going to have to hire executives.\\nYou think hiring employees is hard and risky — wait until you\\nstart hiring for VP Engineering, VP Marketing, VP Sales, VP HR,\\nGeneral Counsel, and CFO.\\nSixth, the hours.\\nThere’s been a lot of talk in Silicon Valley lately about work/life\\nbalance — about how you should be able to do a startup and\\nsimultaneously live a full and fulXlling outside life.\\nNow, personally, I have a lot of sympathy for that point of view.\\nAnd I try hard in my companies (well, at least my last two companies) to do whatever I can to help make sure that people aren’t\\nground down to little tiny spots on the Yoor by the workload\\nand the hours.\\nBut, it’s really diZcult.\\nThe fact is that startups are incredibly intense experiences and\\ntake a lot out of people in the ',\n",
              " '\\nground down to little tiny spots on the Yoor by the workload\\nand the hours.\\nBut, it’s really diZcult.\\nThe fact is that startups are incredibly intense experiences and\\ntake a lot out of people in the best of circumstances.\\nAnd just because you want people to have work/life balance, it’s\\nnot so easy when you’re close to running out of cash, your product hasn’t shipped yet, your VC is mad at you, and your Kleiner\\nPerkins-backed competitor in Menlo Park — you know, the one\\nwhose employees’ average age seems to be about 19 — is kicking\\nyour butt.\\nWhich is what it’s going to be like most of the time.\\nAnd even if you can help your employees have proper work/life\\nbalance, as a founder you certainly won’t.\\nPart 1: Why not to do a startup 7\\n(In case you were wondering, by the way, the hours do compound the stress.)\\nSeventh, it’s really easy for the culture of a startup to go sideways.\\nThis combines the Xrst and second items above.\\nThis is the emotional rollercoaster wreaking havoc on not just\\ny',\n",
              " 'ound the stress.)\\nSeventh, it’s really easy for the culture of a startup to go sideways.\\nThis combines the Xrst and second items above.\\nThis is the emotional rollercoaster wreaking havoc on not just\\nyou but your whole company.\\nIt takes time for the culture of any company to become “set” —\\nfor the team of people who have come together for the Xrst time\\nto decide collectively what they’re all about, what they value —\\nand how they look at challenge and adversity.\\nIn the best case, you get an amazing dynamic of people really\\npulling together, supporting one another, and working their collective tails oW in pursuit of a dream.\\nIn the worst case, you end up with widespread, self-reinforcing\\nbitterness, disillusionment, cynicism, bad morale, contempt for\\nmanagement, and depression.\\nAnd you as the founder have much less inYuence over this than\\nyou’ll think you do.\\nGuess which way it usually goes.\\nEighth, there are lots of X factors that can come along and whup\\nyou right upside the head, and th',\n",
              " ' founder have much less inYuence over this than\\nyou’ll think you do.\\nGuess which way it usually goes.\\nEighth, there are lots of X factors that can come along and whup\\nyou right upside the head, and there’s absolutely nothing you\\ncan do about them.\\nStock market crashes.\\nTerrorist attacks.\\nNatural disasters.\\nA better funded startup with a more experienced team that’s\\nbeen hard at work longer than you have, in stealth mode, that\\nunexpectedly releases a product that swialy comes to dominate\\nyour market, completely closing oW your opportunity, and you\\nhad no idea they were even working on it.\\n8 The Pmarca Blog Archives\\nAt best, any given X factor might slam shut the fundraising\\nwindow, cause customers to delay or cancel purchases — or, at\\nworst, shut down your whole company.\\nRussian mobsters laundering millions of dollars of dirty money\\nthrough your service, resulting in the credit card companies\\nclosing you down.\\nYou think I’m joking about that one?\\nOK, now here’s the best part:\\nI haven’t ',\n",
              " 'undering millions of dollars of dirty money\\nthrough your service, resulting in the credit card companies\\nclosing you down.\\nYou think I’m joking about that one?\\nOK, now here’s the best part:\\nI haven’t even talked about Xguring out what product to build,\\nbuilding it, taking it to market, and standing out from the crowd.\\nAll the risks in the core activities of what your company actually\\ndoes are yet to come, and to be discussed in future posts in this\\nseries.\\nPart 1: Why not to do a startup 9\\nPart 2: When the VCs say \"no\"\\nThis post is about what to do between when the VCs say “no” to\\nfunding your startup, and when you either change their minds\\nor Xnd some other path.\\nI’m going to assume that you’ve done all the basics: developed a\\nplan and a pitch, decided that venture Xnancing is right for you\\nand you are right for venture Xnancing, lined up meetings with\\nproperly qualiXed VCs, and made your pitch.\\nAnd the answer has come back and it’s “no”.\\nOne “no” doesn’t mean anything — the VC could ',\n",
              " 'ou\\nand you are right for venture Xnancing, lined up meetings with\\nproperly qualiXed VCs, and made your pitch.\\nAnd the answer has come back and it’s “no”.\\nOne “no” doesn’t mean anything — the VC could just be having\\na bad day, or she had a bad experience with another company in\\nyour category, or she had a bad experience with another company with a similar name, or she had a bad experience with\\nanother founder who kind of looks like you, or her Mercedes\\nSLR McLaren’s engine could have blown up on the freeway that\\nmorning — it could be anything. Go meet with more VCs.\\nIf you meet with three VCs and they all say “no”, it could just be\\na big coincidence. Go meet with more VCs.\\nIf you meet with Xve, or six, or eight VCs and they all say no, it’s\\nnot a coincidence.\\nThere is something wrong with your plan.\\nOr, even if there isn’t, there might as well be, because you’re still\\nnot getting funded.\\nMeeting with more VCs aaer a bunch have said no is probably\\na waste of time. Instead, retool your pl',\n",
              " 'our plan.\\nOr, even if there isn’t, there might as well be, because you’re still\\nnot getting funded.\\nMeeting with more VCs aaer a bunch have said no is probably\\na waste of time. Instead, retool your plan — which is what this\\npost is about.\\nBut Hrst, lay the groundwork to go back in later.\\nIt’s an old — and true — cliche that VCs rarely actually say “no”\\n— more oaen they say “maybe”, or “not right now”, or “my partners aren’t sure”, or “that’s interesting, let me think about it”.\\nThey do that because they don’t want to invest in your company\\ngiven the current facts, but they want to keep the door open in\\ncase the facts change.\\nAnd that’s exactly what you want — you want to be able to go\\nback to them with a new set of facts, and change their minds,\\nand get to “yes”.\\nSo be sure to take “no” gracefully — politely ask them for feedback (which they probably won’t give you, at least not completely honestly — nobody likes calling someone else’s baby\\nugly — believe me, I’ve done it), thank them ',\n",
              " 'acefully — politely ask them for feedback (which they probably won’t give you, at least not completely honestly — nobody likes calling someone else’s baby\\nugly — believe me, I’ve done it), thank them for their time, and\\nask if you can call them again if things change.\\nTrust me — they’d much rather be saying “yes” than “no” —\\nthey need all the good investments they can get.\\nSecond, consider the environment.\\nBeing told “no” by VCs in 1999 is a lot diWerent than being told\\n“no” in 2002.\\nIf you were told “no” in 1999, I’m sure you’re a wonderful person and you have huge potential and your mother loves you\\nvery much, but your plan really was seriously Yawed.\\nIf you were told “no” in 2002, you probably actually were the\\nnext Google, but most of the VCs were hiding under their desks\\nand they just missed it.\\nIn my opinion, we’re now in a much more rational environment\\nthan either of those extremes — a lot of good plans are being\\nfunded, along with some bad ones, but not all the bad ones.\\nPart ',\n",
              " ' missed it.\\nIn my opinion, we’re now in a much more rational environment\\nthan either of those extremes — a lot of good plans are being\\nfunded, along with some bad ones, but not all the bad ones.\\nPart 2: When the VCs say \"no\" 11\\nI’ll proceed under the assumption that we’re in normal times.\\nBut if things get truly euphoric or truly funereal again, the rest\\nof this post will probably not be very helpful — in either case.\\nThird, retool your plan.\\nThis is the hard part — changing the facts of your plan and what\\nyou are trying to do, to make your company more fundable.\\nTo describe the dimensions that you should consider as you\\ncontemplate retooling your plan, let me introduce the onion\\ntheory of risk.\\nIf you’re an investor, you look at the risk around an investment\\nas if it’s an onion. Just like you peel an onion and remove each\\nlayer in turn, risk in a startup investment comes in layers that\\nget peeled away — reduced — one by one.\\nYour challenge as an entrepreneur trying to raise venture ca',\n",
              " ' you peel an onion and remove each\\nlayer in turn, risk in a startup investment comes in layers that\\nget peeled away — reduced — one by one.\\nYour challenge as an entrepreneur trying to raise venture capital\\nis to keep peeling layers of risk oW of your particular onion until\\nthe VCs say “yes” — until the risk in your startup is reduced to\\nthe point where investing in your startup doesn’t look terrifying\\nand merely looks risky.\\nWhat are the layers of risk for a high-tech\\nstartup?\\nIt depends on the startup, but here are some of the common\\nones:\\nFounder risk — does the startup have the right founding team?\\nA common founding team might include a great technologist,\\nplus someone who can run the company, at least to start. Is the\\ntechnologist really all that? Is the business person capable of\\nrunning the company? Is the business person missing from the\\nteam altogether? Is it a business person or business people with\\nno technologist, and therefore virtually unfundable?\\nMarket risk — is there a ',\n",
              " 'ing the company? Is the business person missing from the\\nteam altogether? Is it a business person or business people with\\nno technologist, and therefore virtually unfundable?\\nMarket risk — is there a market for the product (using the term\\nproduct and service interchangeably)? Will anyone want it? Will\\nthey pay for it? How much will they pay? How do we know?\\n12 The Pmarca Blog Archives\\nCompetition risk — are there too many other startups already\\ndoing this? Is this startup suZciently diWerentiated from the\\nother startups, and also diWerentiated from any large incumbents?\\nTiming risk — is it too early? Is it too late?\\nFinancing risk — aaer we invest in this round, how many additional rounds of Xnancing will be required for the company to\\nbecome proXtable, and what will the dollar total be? How certain\\nare we about these estimates? How do we know?\\nMarketing risk — will this startup be able to cut through the\\nnoise? How much will marketing cost? Do the economics of customer acquisition — t',\n",
              " 'ow certain\\nare we about these estimates? How do we know?\\nMarketing risk — will this startup be able to cut through the\\nnoise? How much will marketing cost? Do the economics of customer acquisition — the cost to acquire a customer, and the revenue that customer will generate — work?\\nDistribution risk — does this startup need certain distribution\\npartners to succeed? Will it be able to get them? How? (For\\nexample, this is a common problem with mobile startups that\\nneed deals with major mobile carriers to succeed.)\\nTechnology risk — can the product be built? Does it involve rocket\\nscience — or an equivalent, like artiXcial intelligence or natural\\nlanguage processing? Are there fundamental breakthroughs that\\nneed to happen? If so, how certain are we that they will happen,\\nor that this team will be able to make them?\\nProduct risk — even assuming the product can in theory be built,\\ncan this team build it?\\nHiring risk — what positions does the startup need to hire for in\\norder to execute its ',\n",
              " 'l be able to make them?\\nProduct risk — even assuming the product can in theory be built,\\ncan this team build it?\\nHiring risk — what positions does the startup need to hire for in\\norder to execute its plan? E.g. a startup planning to build a highscale web service will need a VP of Operations — will the founding team be able to hire a good one?\\nLocation risk — where is the startup located? Can it hire the right\\ntalent in that location? And will I as the VC need to drive more\\nthan 20 minutes in my Mercedes SLR McLaren to get there?\\nYou know, when you stack up all these layers and look at the\\nPart 2: When the VCs say \"no\" 13\\nfull onion, you realize it’s amazing that any venture investments\\never get made.\\nWhat you need to do is take a hard-headed look at each of these\\nrisks — and any others that are speciXc to your startup and its\\ncategory — and put yourself in the VC’s shoes: what could this\\nstartup do to minimize or eliminate enough of these risks to\\nmake the company fundable?\\nThen do tho',\n",
              " 't are speciXc to your startup and its\\ncategory — and put yourself in the VC’s shoes: what could this\\nstartup do to minimize or eliminate enough of these risks to\\nmake the company fundable?\\nThen do those things.\\nThis isn’t very much fun, since it will probably involve making\\nsigniXcant changes to your plan, but look on the bright side: it’s\\nexcellent practice for when your company ultimately goes public and has to Xle an S1 registration statement with the SEC, in\\nwhich you have to itemize in huge detail every conceivable risk\\nand bad thing that could ever possibly happen to you, up to and\\nincluding global warming.\\nSome ideas on reducing risk\\nFounder risk — the tough one. If you’re the technologist on a\\nfounding team with a business person, you have to consider the\\npossibility that the VCs don’t think the business person is strong\\nenough to be the founding CEO. Or vice versa, maybe they\\nthink the technologist isn’t strong enough to build the product.\\nYou may have to swap out one or more ',\n",
              " 'on’t think the business person is strong\\nenough to be the founding CEO. Or vice versa, maybe they\\nthink the technologist isn’t strong enough to build the product.\\nYou may have to swap out one or more founders, and/or add\\none or more founders.\\nI put this one right up front because it can be a huge issue and\\nthe odds of someone being honest with you about it in the speciXc are not that high.\\nMarket risk — you probably need to validate the market, at a\\npractical level. Sometimes more detailed and analytical market\\nresearch will solve the problem, but more oaen you actually\\nneed to go get some customers to demonstrate that the market\\nexists. Preferably, paying customers. Or at least credible\\nprospects who will talk to VCs to validate the market hypothesis.\\nCompetition risk — is your diWerentiation really sharp enough?\\n14 The Pmarca Blog Archives\\nRethink this one from the ground up. Lots of startups do not\\nhave strong enough diWerentiation out of the gate, even aaer\\nthey get funded. If you ',\n",
              " 'tion really sharp enough?\\n14 The Pmarca Blog Archives\\nRethink this one from the ground up. Lots of startups do not\\nhave strong enough diWerentiation out of the gate, even aaer\\nthey get funded. If you don’t have a really solid idea as to how\\nyou’re dramatically diWerent from or advantaged over known\\nand unknown competitors, you might not want to start a company in the Xrst place.\\nTwo additional points on competition risk that founders routinely screw up in VC pitches:\\nNever, ever say that you have no competitors. That signals\\nnaivete. Great markets draw competitors, and so if you really\\nhave no competition, you must not be in a great market. Even\\nif you really believe you have no competitors, create a competitive landscape slide with adjacent companies in related market\\nsegments and be ready to talk crisply about how you are like and\\nunlike those adjacent companies.\\nAnd never, ever say your market projections indicate you’re\\ngoing to be hugely successful if you get only 2% of your\\n(extr',\n",
              " 'y to talk crisply about how you are like and\\nunlike those adjacent companies.\\nAnd never, ever say your market projections indicate you’re\\ngoing to be hugely successful if you get only 2% of your\\n(extremely large) market. That also signals naivete. If you’re\\ngoing aaer 2% of a large market, that means the presumably\\nlarger companies that are going to take the other 98% are going\\nto kill you. You have to have a theory for how you’re going to get\\na signiXcantly higher market share than 2%. (I pick 2% because\\nthat’s the cliche, but if you’re a VC, you’ve probably heard someone use it.)\\nTiming risk — the only thing to do here is to make more\\nprogress, and demonstrate that you’re not too early or too late.\\nGetting customers in the bag is the most valuable thing you can\\ndo on this one.\\nFinancing risk — rethink very carefully how much money you\\nwill need to raise aaer this round of Xnancing, and try to change\\nthe plan in plausible ways to require less money. For example,\\nonly serve Cristal at ',\n",
              " 'risk — rethink very carefully how much money you\\nwill need to raise aaer this round of Xnancing, and try to change\\nthe plan in plausible ways to require less money. For example,\\nonly serve Cristal at your launch party, and not Remy Martin\\n“Black Pearl” Louis XIII cognac.\\nMarketing risk — Xrst, make sure your diWerentiation is superPart 2: When the VCs say \"no\" 15\\nsharp, because without that, you probably won’t be able to stand\\nout from the noise.\\nThen, model out your customer acquisition economics in detail\\nand make sure that you can show how you’ll get more revenue\\nfrom a customer than it will cost in sales and marketing expense\\nto acquire that customer. This is a common problem for startups pursuing the small business market, for example.\\nIf it turns out you need a lot of money in absolute terms for\\nmarketing, look for alternate approaches — perhaps guerilla\\nmarketing, or some form of virality.\\nDistribution risk — this is a very tough one — if your plan has\\ndistribution risk, which i',\n",
              " 'te terms for\\nmarketing, look for alternate approaches — perhaps guerilla\\nmarketing, or some form of virality.\\nDistribution risk — this is a very tough one — if your plan has\\ndistribution risk, which is to say you need a key distribution\\npartner to make it work, personally I’d recommend shelving the\\nplan and doing something else. Otherwise, you may need to go\\nget the distribution deal before you can raise money, which is\\nalmost impossible.\\nTechnology risk — there’s only one way around this, which is to\\nbuild the product, or at least get it to beta, and then raise money.\\nProduct risk — same answer — build it.\\nHiring risk — the best way to address this is to Xgure out which\\nposition/positions the VCs are worried about, and add it/them\\nto the founding team. This will mean additional dilution for\\nyou, but it’s probably the only way to solve the problem.\\nLocation risk — this is the one you’re really not going to like. If\\nyou’re not in a major center of entrepreneurialism and you’re\\nhaving tr',\n",
              " 'or\\nyou, but it’s probably the only way to solve the problem.\\nLocation risk — this is the one you’re really not going to like. If\\nyou’re not in a major center of entrepreneurialism and you’re\\nhaving trouble raising money, you probably need to move.\\nThere’s a reason why most Xlms get made in Los Angeles, and\\nthere’s a reason most venture-backed US tech startups happen\\nin Silicon Valley and handful of other places — that’s where the\\nmoney is. You can start a company wherever you want, but you\\nmay not be able to get it funded there.\\nYou’ll notice that a lot of what you may need to do is kick the ball\\nfurther down the road — make more progress against your plan\\nbefore you raise venture capital.\\n16 The Pmarca Blog Archives\\nThis obviously raises the issue of how you’re supposed to do\\nthat before you’ve raised money.\\nTry to raise angel money, or bootstrap oW of initial customers\\nor consulting contracts, or work on it aaer hours while keeping\\nyour current job, or quit your job and live oW of cr',\n",
              " 'you’ve raised money.\\nTry to raise angel money, or bootstrap oW of initial customers\\nor consulting contracts, or work on it aaer hours while keeping\\nyour current job, or quit your job and live oW of credit cards for\\na while.\\nLots of entrepreneurs have done these things and succeeded —\\nand of course, many have failed.\\nNobody said this would be easy.\\nThe most valuable thing you can do is actually build your product. When in doubt, focus on that.\\nThe next most valuable thing you can do is get customers — or,\\nfor a consumer Internet service, establish a pattern of page view\\ngrowth.\\nThe whole theory of venture capital is that VCs are investing\\nin risk — another term for venture capital is “risk capital” —\\nbut the reality is that VCs will only take on so much risk, and\\nthe best thing you can do to optimize your chances of raising\\nmoney is to take out risk.\\nPeel away at the onion.\\nThen, once you’ve done that, recraa the pitch around the new\\nfacts. Go do the pitches again. And repeat as necessa',\n",
              " 'o optimize your chances of raising\\nmoney is to take out risk.\\nPeel away at the onion.\\nThen, once you’ve done that, recraa the pitch around the new\\nfacts. Go do the pitches again. And repeat as necessary.\\nAnd to end on a happy note, remember that “yes” can turn into\\n“no” at any point up until the cash hits your company’s bank\\naccount.\\nSo keep your options open all the way to the end.\\nPart 2: When the VCs say \"no\" 17\\nPart 3: \"But I don\\'t know any VCs!\"\\nIn my last post in this series, When the VCs say “no”, I discussed\\nwhat to do once you have been turned down for venture funding for the Xrst time.\\nHowever, this presupposes you’ve been able to pitch VCs in the\\nXrst place. What if you have a startup for which you’d like to\\nraise venture funding, but you don’t know any VCs?\\nI can certainly sympathize with this problem — when I was in\\ncollege working on Mosaic at the University of Illinois, the term\\n“venture capital” might as well have been “klaatu barada nikto”\\nfor all I knew. I had never m',\n",
              " 'athize with this problem — when I was in\\ncollege working on Mosaic at the University of Illinois, the term\\n“venture capital” might as well have been “klaatu barada nikto”\\nfor all I knew. I had never met a venture capitalist, no venture\\ncapitalist had ever talked to me, and I wouldn’t have recognized\\none if I’d stumbled over his checkbook on the sidewalk. Without\\nJim Clark, I’m not at all certain I would have been able to raise\\nmoney to start a company like Netscape, had it even occured to\\nme to start a company in the Xrst place.\\nThe starting point for raising money from VCs when you don’t\\nknow any VCs is to realize that VCs work mostly through referrals — they hear about a promising startup or entrepreneur\\nfrom someone they have worked with before, like another\\nentrepreneur, an executive or engineer at one of the startups\\nthey have funded, or an angel investor with whom they have\\npreviously co-invested.\\nThe reason for this is simply the math: any individual VC can\\nonly fund a few compa',\n",
              " 'r engineer at one of the startups\\nthey have funded, or an angel investor with whom they have\\npreviously co-invested.\\nThe reason for this is simply the math: any individual VC can\\nonly fund a few companies per year, and for every one she\\nfunds, she probably meets with 15 or 20, and there are hundreds\\nmore that would like to meet with her that she doesn’t possibly\\nhave time to meet with. She has to rely on her network to help\\nher screen the hundreds down to 15 or 20, so she can spend her\\ntime Xnding the right one out of the 15 or 20.\\nTherefore, submitting a business plan “over the transom”, or\\nunsolicited, to a venture Xrm is likely to amount to just as much\\nas submitting a screenplay “over the transom” to a Hollywood\\ntalent agency — that is, precisely nothing.\\nSo the primary trick becomes getting yourself into a position\\nwhere you’re one of the 15 or 20 a particular venture capitalist\\nis meeting with based on referrals from her network, not one of\\nthe hundreds of people who don’t come r',\n",
              " 'etting yourself into a position\\nwhere you’re one of the 15 or 20 a particular venture capitalist\\nis meeting with based on referrals from her network, not one of\\nthe hundreds of people who don’t come recommended by anyone and whom she has no intention of meeting.\\nBut before you think about doing that, the Xrst order of business\\nis to (paraphrasing for a family audience) “have your stuG\\ntogether” — create and develop your plan, your presentation,\\nand your supporting materials so that when you do meet with a\\nVC, you impress her right out of the gate as bringing her a fundable startup founded by someone who knows what he — that’s\\nyou — is doing.\\nMy recommendation is to read up on all the things you should\\ndo to put together a really eWective business plan and presentation, and then pretend you have already been turned down once\\n— then go back to my last post and go through all the diWerent\\nthings you should anticipate and Xx before you actually do walk\\nthrough the door.\\nOne of the reason V',\n",
              " ' have already been turned down once\\n— then go back to my last post and go through all the diWerent\\nthings you should anticipate and Xx before you actually do walk\\nthrough the door.\\nOne of the reason VCs only meet with startups through their\\nnetworks is because too many of the hundreds of other startups\\nthat they could meet with come across as amateurish and uninformed, and therefore not fundable, when they do take meetings with them. So you have a big opportunity to cut through\\nthe noise by making a great Hrst impression — which requires\\nreally thinking things through ahead of time and doing all the\\nhard work up front to really make your pitch and plan a masterpiece.\\nPart 3: \"But I don\\'t know any VCs!\" 19\\nWorking backwards from that, the best thing you can walk in\\nwith is a working product. Or, if you can’t get to a working\\nproduct without raising venture funding, then at least a beta\\nor prototype of some form — a web site that works but hasn’t\\nlaunched, or a soaware mockup with partia',\n",
              " '. Or, if you can’t get to a working\\nproduct without raising venture funding, then at least a beta\\nor prototype of some form — a web site that works but hasn’t\\nlaunched, or a soaware mockup with partial functionality,\\nor something. And of course it’s even better if you walk in with\\nexisting “traction” of some form — customers, beta customers,\\nsome evidence of adoption by Internet users, whatever is appropriate for your particular startup.\\nWith a working product that could be the foundation of a fundable startup, you have a much better chance of getting funded\\nonce you do get in the door. Back to my rule of thumb from\\nthe last post: when in doubt, work on the product.\\nFailing a working product and ideally customers or users, be\\nsure to have as Ieshed out a presentation as you possibly can\\n— including mockups, screenshots, market analyses, customer\\nresearch such as interviews with real prospects, and the like.\\nDon’t bother with a long detailed written business plan. Most\\nVCs will either f',\n",
              " 'including mockups, screenshots, market analyses, customer\\nresearch such as interviews with real prospects, and the like.\\nDon’t bother with a long detailed written business plan. Most\\nVCs will either fund a startup based on a Yeshed out Powerpoint\\npresentation of about 20 slides, or they won’t fund it at all.\\nCorollary: any VC who requires a long detailed written business\\nplan is probably not the right VC to be working with.\\nNext: qualify, qualify, qualify. Do extensive research on venture capitalists and Xnd the ones who focus on the sector relevant to your startup. It is completely counterproductive to\\neveryone involved for you to pitch a health care VC on a consumer Internet startup, or vice versa. Individual VCs are usually\\nquite focused in the kinds of companies they are looking for,\\nand identifying those VCs and screening out all the others is\\nabsolutely key.\\nNow, on to developing contacts\\nThe best way to develop contacts with VCs, in my opinion, is to\\nwork at a venture-backed sta']"
            ]
          },
          "execution_count": 69,
          "metadata": {},
          "output_type": "execute_result"
        }
      ],
      "source": [
        "split_documents[0:40]"
      ]
    },
    {
      "cell_type": "markdown",
      "metadata": {
        "id": "HOU-RFP_R6yv"
      },
      "source": [
        "## Task 3: Embeddings and Vectors\n",
        "\n",
        "Next, we have to convert our corpus into a \"machine readable\" format as we explored in the Embedding Primer notebook.\n",
        "\n",
        "Today, we're going to talk about the actual process of creating, and then storing, these embeddings, and how we can leverage that to intelligently add context to our queries."
      ]
    },
    {
      "cell_type": "markdown",
      "metadata": {},
      "source": [
        "### OpenAI API Key\n",
        "\n",
        "In order to access OpenAI's APIs, we'll need to provide our OpenAI API Key!\n",
        "\n",
        "You can work through the folder \"OpenAI API Key Setup\" for more information on this process if you don't already have an API Key!"
      ]
    },
    {
      "cell_type": "code",
      "execution_count": 70,
      "metadata": {},
      "outputs": [],
      "source": [
        "import os\n",
        "import openai\n",
        "from getpass import getpass\n",
        "\n",
        "openai.api_key = getpass(\"OpenAI API Key: \")\n",
        "os.environ[\"OPENAI_API_KEY\"] = openai.api_key"
      ]
    },
    {
      "cell_type": "markdown",
      "metadata": {},
      "source": [
        "### Vector Database\n",
        "\n",
        "Let's set up our vector database to hold all our documents and their embeddings!"
      ]
    },
    {
      "cell_type": "markdown",
      "metadata": {
        "id": "kDQrfAR1R6yv"
      },
      "source": [
        "While this is all baked into 1 call - we can look at some of the code that powers this process to get a better understanding:\n",
        "\n",
        "Let's look at our `VectorDatabase().__init__()`:\n",
        "\n",
        "```python\n",
        "def __init__(self, embedding_model: EmbeddingModel = None):\n",
        "        self.vectors = defaultdict(np.array)\n",
        "        self.embedding_model = embedding_model or EmbeddingModel()\n",
        "```\n",
        "\n",
        "As you can see - our vectors are merely stored as a dictionary of `np.array` objects.\n",
        "\n",
        "Secondly, our `VectorDatabase()` has a default `EmbeddingModel()` which is a wrapper for OpenAI's `text-embedding-3-small` model.\n",
        "\n",
        "> **Quick Info About `text-embedding-3-small`**:\n",
        "> - It has a context window of **8191** tokens\n",
        "> - It returns vectors with dimension **1536**"
      ]
    },
    {
      "cell_type": "markdown",
      "metadata": {
        "id": "L273pRdeR6yv"
      },
      "source": [
        "#### ❓Question #1:\n",
        "\n",
        "The default embedding dimension of `text-embedding-3-small` is 1536, as noted above. \n",
        "\n",
        "1. Is there any way to modify this dimension?\n",
        "Yes, you can modify this dimension to make it smaller if the use-case requires it / it your preference as a developer. The more dimensions there are, the more storage and computation required, and the higher the cost.\n",
        "2. What technique does OpenAI use to achieve this?\n",
        "OpenAI's embedding models are trained in a way that allows them to maintain the underlying semantic information even if the number of dimensions is reduced to address cost or storage limitations.\n",
        "\n",
        "> NOTE: Check out this [API documentation](https://platform.openai.com/docs/api-reference/embeddings/create) for the answer to question #1, and [this documentation](https://platform.openai.com/docs/guides/embeddings/use-cases) for an answer to question #2!"
      ]
    },
    {
      "cell_type": "markdown",
      "metadata": {
        "id": "w5FZY7K3R6yv"
      },
      "source": [
        "We can call the `async_get_embeddings` method of our `EmbeddingModel()` on a list of `str` and receive a list of `float` back!\n",
        "\n",
        "```python\n",
        "async def async_get_embeddings(self, list_of_text: List[str]) -> List[List[float]]:\n",
        "        return await aget_embeddings(\n",
        "            list_of_text=list_of_text, engine=self.embeddings_model_name\n",
        "        )\n",
        "```"
      ]
    },
    {
      "cell_type": "markdown",
      "metadata": {
        "id": "cSct6X0aR6yv"
      },
      "source": [
        "We cast those to `np.array` when we build our `VectorDatabase()`:\n",
        "\n",
        "```python\n",
        "async def abuild_from_list(self, list_of_text: List[str]) -> \"VectorDatabase\":\n",
        "        embeddings = await self.embedding_model.async_get_embeddings(list_of_text)\n",
        "        for text, embedding in zip(list_of_text, embeddings):\n",
        "            self.insert(text, np.array(embedding))\n",
        "        return self\n",
        "```\n",
        "\n",
        "And that's all we need to do!"
      ]
    },
    {
      "cell_type": "code",
      "execution_count": 81,
      "metadata": {
        "id": "O4KoLbVDR6yv"
      },
      "outputs": [],
      "source": [
        "import asyncio\n",
        "from typing import List, Tuple\n",
        "import numpy as np\n",
        "from collections import defaultdict\n",
        "from typing import List, Tuple, Callable\n",
        "from aimakerspace.openai_utils.embedding import EmbeddingModel\n",
        "# Initialize the VectorDatabase\n",
        "vector_db = VectorDatabase()\n",
        "\n",
        "# Build the database from the split documents\n",
        "vector_db = vector_db.build_from_list(split_documents)\n",
        "\n",
        "# Now you can use vector_db for further operations"
      ]
    },
    {
      "cell_type": "markdown",
      "metadata": {
        "id": "SSZwaGvpR6yv"
      },
      "source": [
        "#### ❓Question #2:\n",
        "\n",
        "What are the benefits of using an `async` approach to collecting our embeddings?\n",
        "The benefits of using an async approach to embeddings is the same as it is for any project---we are able to hit the API concurrently, allowing the model to process multiple chunks of text at the same time, significantly speeding up the process. \n",
        "This also allows for better resource utilization, as we can conduct other activities while waiting for the embeddings to be processed by the API.\n",
        "So the benefits are that it is faster, more efficient, and if there is an issue with one chunk, it does not delay all the others.\n",
        "> NOTE: Determining the core difference between `async` and `sync` will be useful! If you get stuck - ask ChatGPT!"
      ]
    },
    {
      "cell_type": "markdown",
      "metadata": {
        "id": "nRBdIt-xR6yw"
      },
      "source": [
        "So, to review what we've done so far in natural language:\n",
        "\n",
        "1. We load source documents\n",
        "2. We split those source documents into smaller chunks (documents)\n",
        "3. We send each of those documents to the `text-embedding-3-small` OpenAI API endpoint\n",
        "4. We store each of the text representations with the vector representations as keys/values in a dictionary"
      ]
    },
    {
      "cell_type": "markdown",
      "metadata": {
        "id": "4-vWANZyR6yw"
      },
      "source": [
        "### Semantic Similarity\n",
        "\n",
        "The next step is to be able to query our `VectorDatabase()` with a `str` and have it return to us vectors and text that is most relevant from our corpus.\n",
        "\n",
        "We're going to use the following process to achieve this in our toy example:\n",
        "\n",
        "1. We need to embed our query with the same `EmbeddingModel()` as we used to construct our `VectorDatabase()`\n",
        "2. We loop through every vector in our `VectorDatabase()` and use a distance measure to compare how related they are\n",
        "3. We return a list of the top `k` closest vectors, with their text representations\n",
        "\n",
        "There's some very heavy optimization that can be done at each of these steps - but let's just focus on the basic pattern in this notebook.\n",
        "\n",
        "> We are using [cosine similarity](https://www.engati.com/glossary/cosine-similarity) as a distance metric in this example - but there are many many distance metrics you could use - like [these](https://flavien-vidal.medium.com/similarity-distances-for-natural-language-processing-16f63cd5ba55)\n",
        "\n",
        "> We are using a rather inefficient way of calculating relative distance between the query vector and all other vectors - there are more advanced approaches that are much more efficient, like [ANN](https://towardsdatascience.com/comprehensive-guide-to-approximate-nearest-neighbors-algorithms-8b94f057d6b6)"
      ]
    },
    {
      "cell_type": "code",
      "execution_count": 74,
      "metadata": {
        "colab": {
          "base_uri": "https://localhost:8080/"
        },
        "id": "76d96uavR6yw",
        "outputId": "bbfccc31-20a2-41c7-c14d-46554a43ed2d"
      },
      "outputs": [
        {
          "data": {
            "text/plain": [
              "[('ordingly.\\nSeventh, when hiring the executive to run your former specialty, be\\ncareful you don’t hire someone weak on purpose.\\nThis sounds silly, but you wouldn’t believe how oaen it happens.\\nThe CEO who used to be a product manager who has a weak\\nproduct management executive. The CEO who used to be in\\nsales who has a weak sales executive. The CEO who used to be\\nin marketing who has a weak marketing executive.\\nI call this the “Michael Eisner Memorial Weak Executive Problem” — aaer the CEO of Disney who had previously been a brilliant TV network executive. When he bought ABC at Disney, it\\npromptly fell to fourth place. His response? “If I had an extra\\ntwo days a week, I could turn around ABC myself.” Well, guess\\nwhat, he didn’t have an extra two days a week.\\nA CEO — or a startup founder — oaen has a hard time letting\\ngo of the function that brought him to the party. The result: you\\nhire someone weak into the executive role for that function so\\nthat you can continue to be “the man” — cons',\n",
              "  array([ 0.02373935,  0.0163976 ,  0.0109292 , ..., -0.01133876,\n",
              "         -0.00271524, -0.01093679])),\n",
              " ('m. They have areas where they are truly deXcient in judgment or skill set. That’s just life. Almost nobody is brilliant\\nat everything. When hiring and when Hring executives, you\\nmust therefore focus on strength rather than lack of weakness. Everybody has severe weaknesses even if you can’t see\\nthem yet. When managing, it’s oaen useful to micromanage and\\nto provide remedial training around these weaknesses. Doing so\\nmay make the diWerence between an executive succeeding or\\nfailing.\\nFor example, you might have a brilliant engineering executive\\nwho generates excellent team loyalty, has terriXc product judgment and makes the trains run on time. This same executive\\nmay be very poor at relating to the other functions in the company. She may generate far more than her share of cross-functional conYicts, cut herself oW from critical information, and\\nsigniXcantly impede your ability to sell and market eWectively.\\nYour alternatives are:\\n(a) Macro-manage and give her an annual or quarterly object',\n",
              "  array([ 0.02762543,  0.04382821,  0.0626073 , ..., -0.02320226,\n",
              "         -0.01930676, -0.00599844])),\n",
              " ('ed?\\nIn reality — as opposed to Marc’s warped view of reality — it will\\nbe extremely helpful for Marc [if he were actually the CEO,\\nwhich he is not] to meet with the new head of engineering daily\\nwhen she comes on board and review all of her thinking and\\ndecisions. This level of micromanagement will accelerate her\\ntraining and improve her long-term eWectiveness. It will make\\nher seem smarter to the rest of the organization which will build\\ncredibility and conXdence while she comes up to speed. Micromanaging new executives is generally a good idea for a limited\\nperiod of time.\\nHowever, that is not the only time that it makes sense to micro66 The Pmarca Blog Archives\\nmanage executives. It turns out that just about every executive\\nin the world has a few things that are seriously wrong with\\nthem. They have areas where they are truly deXcient in judgment or skill set. That’s just life. Almost nobody is brilliant\\nat everything. When hiring and when Hring executives, you\\nmust therefore focus o',\n",
              "  array([ 0.02196984,  0.0321991 ,  0.03401269, ..., -0.03242183,\n",
              "          0.01386439, -0.01526435]))]"
            ]
          },
          "execution_count": 74,
          "metadata": {},
          "output_type": "execute_result"
        }
      ],
      "source": [
        "vector_db.search_by_text(\"What is the Michael Eisner Memorial Weak Executive Problem?\", k=3)"
      ]
    },
    {
      "cell_type": "markdown",
      "metadata": {
        "id": "TehsfIiKR6yw"
      },
      "source": [
        "## Task 4: Prompts\n",
        "\n",
        "In the following section, we'll be looking at the role of prompts - and how they help us to guide our application in the right direction.\n",
        "\n",
        "In this notebook, we're going to rely on the idea of \"zero-shot in-context learning\".\n",
        "\n",
        "This is a lot of words to say: \"We will ask it to perform our desired task in the prompt, and provide no examples.\""
      ]
    },
    {
      "cell_type": "markdown",
      "metadata": {
        "id": "yXpA0UveR6yw"
      },
      "source": [
        "### XYZRolePrompt\n",
        "\n",
        "Before we do that, let's stop and think a bit about how OpenAI's chat models work.\n",
        "\n",
        "We know they have roles - as is indicated in the following API [documentation](https://platform.openai.com/docs/api-reference/chat/create#chat/create-messages)\n",
        "\n",
        "There are three roles, and they function as follows (taken directly from [OpenAI](https://platform.openai.com/docs/guides/gpt/chat-completions-api)):\n",
        "\n",
        "- `{\"role\" : \"system\"}` : The system message helps set the behavior of the assistant. For example, you can modify the personality of the assistant or provide specific instructions about how it should behave throughout the conversation. However note that the system message is optional and the model’s behavior without a system message is likely to be similar to using a generic message such as \"You are a helpful assistant.\"\n",
        "- `{\"role\" : \"user\"}` : The user messages provide requests or comments for the assistant to respond to.\n",
        "- `{\"role\" : \"assistant\"}` : Assistant messages store previous assistant responses, but can also be written by you to give examples of desired behavior.\n",
        "\n",
        "The main idea is this:\n",
        "\n",
        "1. You start with a system message that outlines how the LLM should respond, what kind of behaviours you can expect from it, and more\n",
        "2. Then, you can provide a few examples in the form of \"assistant\"/\"user\" pairs\n",
        "3. Then, you prompt the model with the true \"user\" message.\n",
        "\n",
        "In this example, we'll be forgoing the 2nd step for simplicities sake."
      ]
    },
    {
      "cell_type": "markdown",
      "metadata": {
        "id": "gdZ2KWKSR6yw"
      },
      "source": [
        "#### Utility Functions\n",
        "\n",
        "You'll notice that we're using some utility functions from the `aimakerspace` module - let's take a peek at these and see what they're doing!"
      ]
    },
    {
      "cell_type": "markdown",
      "metadata": {
        "id": "GFbeJDDsR6yw"
      },
      "source": [
        "##### XYZRolePrompt"
      ]
    },
    {
      "cell_type": "markdown",
      "metadata": {
        "id": "5mojJSE3R6yw"
      },
      "source": [
        "Here we have our `system`, `user`, and `assistant` role prompts.\n",
        "\n",
        "Let's take a peek at what they look like:\n",
        "\n",
        "```python\n",
        "class BasePrompt:\n",
        "    def __init__(self, prompt):\n",
        "        \"\"\"\n",
        "        Initializes the BasePrompt object with a prompt template.\n",
        "\n",
        "        :param prompt: A string that can contain placeholders within curly braces\n",
        "        \"\"\"\n",
        "        self.prompt = prompt\n",
        "        self._pattern = re.compile(r\"\\{([^}]+)\\}\")\n",
        "\n",
        "    def format_prompt(self, **kwargs):\n",
        "        \"\"\"\n",
        "        Formats the prompt string using the keyword arguments provided.\n",
        "\n",
        "        :param kwargs: The values to substitute into the prompt string\n",
        "        :return: The formatted prompt string\n",
        "        \"\"\"\n",
        "        matches = self._pattern.findall(self.prompt)\n",
        "        return self.prompt.format(**{match: kwargs.get(match, \"\") for match in matches})\n",
        "\n",
        "    def get_input_variables(self):\n",
        "        \"\"\"\n",
        "        Gets the list of input variable names from the prompt string.\n",
        "\n",
        "        :return: List of input variable names\n",
        "        \"\"\"\n",
        "        return self._pattern.findall(self.prompt)\n",
        "```\n",
        "\n",
        "Then we have our `RolePrompt` which laser focuses us on the role pattern found in most API endpoints for LLMs.\n",
        "\n",
        "```python\n",
        "class RolePrompt(BasePrompt):\n",
        "    def __init__(self, prompt, role: str):\n",
        "        \"\"\"\n",
        "        Initializes the RolePrompt object with a prompt template and a role.\n",
        "\n",
        "        :param prompt: A string that can contain placeholders within curly braces\n",
        "        :param role: The role for the message ('system', 'user', or 'assistant')\n",
        "        \"\"\"\n",
        "        super().__init__(prompt)\n",
        "        self.role = role\n",
        "\n",
        "    def create_message(self, **kwargs):\n",
        "        \"\"\"\n",
        "        Creates a message dictionary with a role and a formatted message.\n",
        "\n",
        "        :param kwargs: The values to substitute into the prompt string\n",
        "        :return: Dictionary containing the role and the formatted message\n",
        "        \"\"\"\n",
        "        return {\"role\": self.role, \"content\": self.format_prompt(**kwargs)}\n",
        "```\n",
        "\n",
        "We'll look at how the `SystemRolePrompt` is constructed to get a better idea of how that extension works:\n",
        "\n",
        "```python\n",
        "class SystemRolePrompt(RolePrompt):\n",
        "    def __init__(self, prompt: str):\n",
        "        super().__init__(prompt, \"system\")\n",
        "```\n",
        "\n",
        "That pattern is repeated for our `UserRolePrompt` and our `AssistantRolePrompt` as well."
      ]
    },
    {
      "cell_type": "markdown",
      "metadata": {
        "id": "D361R6sMR6yw"
      },
      "source": [
        "##### ChatOpenAI"
      ]
    },
    {
      "cell_type": "markdown",
      "metadata": {
        "id": "HJVQ2Pm8R6yw"
      },
      "source": [
        "Next we have our model, which is converted to a format analagous to libraries like LangChain and LlamaIndex.\n",
        "\n",
        "Let's take a peek at how that is constructed:\n",
        "\n",
        "```python\n",
        "class ChatOpenAI:\n",
        "    def __init__(self, model_name: str = \"gpt-4o-mini\"):\n",
        "        self.model_name = model_name\n",
        "        self.openai_api_key = os.getenv(\"OPENAI_API_KEY\")\n",
        "        if self.openai_api_key is None:\n",
        "            raise ValueError(\"OPENAI_API_KEY is not set\")\n",
        "\n",
        "    def run(self, messages, text_only: bool = True):\n",
        "        if not isinstance(messages, list):\n",
        "            raise ValueError(\"messages must be a list\")\n",
        "\n",
        "        openai.api_key = self.openai_api_key\n",
        "        response = openai.ChatCompletion.create(\n",
        "            model=self.model_name, messages=messages\n",
        "        )\n",
        "\n",
        "        if text_only:\n",
        "            return response.choices[0].message.content\n",
        "\n",
        "        return response\n",
        "```"
      ]
    },
    {
      "cell_type": "markdown",
      "metadata": {
        "id": "qCU7FfhIR6yw"
      },
      "source": [
        "#### ❓ Question #3:\n",
        "\n",
        "When calling the OpenAI API - are there any ways we can achieve more reproducible outputs?\n",
        "There are two main ways you can enable more consistent outputs when calling the API. \n",
        "The first is reducing the temperature of the model, which reduces its 'creativity' but also results in more consistent outputs. \n",
        "The second is through prompt engineering. By having clear, comprehensive instructions in the prompt that highlight your preferred output, examples of it, and the a template for it. By providing this information, you enable more consistent outputs.\n",
        "\n",
        "> NOTE: Check out [this section](https://platform.openai.com/docs/guides/text-generation/) of the OpenAI documentation for the answer!"
      ]
    },
    {
      "cell_type": "markdown",
      "metadata": {
        "id": "c5wcjMLCR6yw"
      },
      "source": [
        "### Creating and Prompting OpenAI's `gpt-4o-mini`!\n",
        "\n",
        "Let's tie all these together and use it to prompt `gpt-4o-mini`!"
      ]
    },
    {
      "cell_type": "code",
      "execution_count": 75,
      "metadata": {
        "id": "WIfpIot7R6yw"
      },
      "outputs": [],
      "source": [
        "from aimakerspace.openai_utils.prompts import (\n",
        "    UserRolePrompt,\n",
        "    SystemRolePrompt,\n",
        "    AssistantRolePrompt,\n",
        ")\n",
        "\n",
        "from aimakerspace.openai_utils.chatmodel import ChatOpenAI\n",
        "\n",
        "chat_openai = ChatOpenAI()\n",
        "user_prompt_template = \"{content}\"\n",
        "user_role_prompt = UserRolePrompt(user_prompt_template)\n",
        "system_prompt_template = (\n",
        "    \"You are an expert in {expertise}, you always answer in a kind way.\"\n",
        ")\n",
        "system_role_prompt = SystemRolePrompt(system_prompt_template)\n",
        "\n",
        "messages = [\n",
        "    system_role_prompt.create_message(expertise=\"Python\"),\n",
        "    user_role_prompt.create_message(\n",
        "        content=\"What is the best way to write a loop?\"\n",
        "    ),\n",
        "]\n",
        "\n",
        "response = chat_openai.run(messages)"
      ]
    },
    {
      "cell_type": "code",
      "execution_count": 19,
      "metadata": {
        "colab": {
          "base_uri": "https://localhost:8080/"
        },
        "id": "dHo7lssNR6yw",
        "outputId": "1d3823fa-bb6b-45f6-ddba-b41686388324"
      },
      "outputs": [
        {
          "name": "stdout",
          "output_type": "stream",
          "text": [
            "The best way to write a loop in Python often depends on the specific use case, but here are some general guidelines and examples to help you understand how to write efficient and readable loops:\n",
            "\n",
            "### 1. Using `for` Loops:\n",
            "A `for` loop is typically used for iterating over a sequence (like a list, tuple, string, or a range of numbers).\n",
            "\n",
            "**Example: Iterating through a list**\n",
            "\n",
            "```python\n",
            "numbers = [1, 2, 3, 4, 5]\n",
            "for num in numbers:\n",
            "    print(num)\n",
            "```\n",
            "\n",
            "This will output each number in the list. Using `for` is generally preferred when you know the number of iterations or are working with iterable objects.\n",
            "\n",
            "### 2. Using `while` Loops:\n",
            "A `while` loop continues to execute as long as a certain condition is `True`. This is useful when the number of iterations is not known beforehand.\n",
            "\n",
            "**Example: Counting down from 5**\n",
            "\n",
            "```python\n",
            "count = 5\n",
            "while count > 0:\n",
            "    print(count)\n",
            "    count -= 1\n",
            "```\n",
            "\n",
            "This will output the countdown from 5 to 1.\n",
            "\n",
            "### 3. Looping with `enumerate()`\n",
            "When you need both the index and the value while looping through a list, you can use `enumerate()`.\n",
            "\n",
            "**Example: Using `enumerate`**\n",
            "\n",
            "```python\n",
            "fruits = ['apple', 'banana', 'cherry']\n",
            "for index, fruit in enumerate(fruits):\n",
            "    print(f\"Index {index}: {fruit}\")\n",
            "```\n",
            "\n",
            "### 4. List Comprehensions:\n",
            "For simple operations that require a loop, you can consider using list comprehensions, which are concise and often more readable.\n",
            "\n",
            "**Example: Squaring numbers in a list**\n",
            "\n",
            "```python\n",
            "numbers = [1, 2, 3, 4, 5]\n",
            "squared = [num**2 for num in numbers]\n",
            "print(squared)  # Output: [1, 4, 9, 16, 25]\n",
            "```\n",
            "\n",
            "### 5. Avoiding Common Pitfalls:\n",
            "- **Infinite Loops**: Be careful with `while` loops that might never reach a condition that stops them.\n",
            "- **Complexity**: Keep loops simple. If you're performing complex logic, consider breaking it out into functions.\n",
            "\n",
            "### 6. Using `break` and `continue`:\n",
            "These keywords help control loop execution. `break` exits the loop, while `continue` skips to the next iteration.\n",
            "\n",
            "**Example of `break`:**\n",
            "\n",
            "```python\n",
            "for num in range(10):\n",
            "    if num == 5:\n",
            "        break  # Exit the loop when num is 5\n",
            "    print(num)\n",
            "```\n",
            "\n",
            "**Example of `continue`:**\n",
            "\n",
            "```python\n",
            "for num in range(5):\n",
            "    if num == 2:\n",
            "        continue  # Skip printing the number 2\n",
            "    print(num)\n",
            "```\n",
            "\n",
            "### Summary\n",
            "Choose the type of loop based on your specific needs and ensure your code remains clear and maintainable. Python's loop constructs give you flexibility, and using them effectively can significantly enhance your programming capabilities. If you have any specific scenarios in mind, feel free to ask!\n"
          ]
        }
      ],
      "source": [
        "print(response)"
      ]
    },
    {
      "cell_type": "markdown",
      "metadata": {
        "id": "r2nxxhB2R6yy"
      },
      "source": [
        "## Task 5: Retrieval Augmented Generation\n",
        "\n",
        "Now we can create a RAG prompt - which will help our system behave in a way that makes sense!\n",
        "\n",
        "There is much you could do here, many tweaks and improvements to be made!"
      ]
    },
    {
      "cell_type": "code",
      "execution_count": 76,
      "metadata": {
        "id": "D1hamzGaR6yy"
      },
      "outputs": [],
      "source": [
        "RAG_PROMPT_TEMPLATE = \"\"\" \\\n",
        "Use the provided context to answer the user's query.\n",
        "\n",
        "You may not answer the user's query unless there is specific context in the following text.\n",
        "\n",
        "If you do not know the answer, or cannot answer, please respond with \"I don't know\".\n",
        "\"\"\"\n",
        "\n",
        "rag_prompt = SystemRolePrompt(RAG_PROMPT_TEMPLATE)\n",
        "\n",
        "USER_PROMPT_TEMPLATE = \"\"\" \\\n",
        "Context:\n",
        "{context}\n",
        "\n",
        "User Query:\n",
        "{user_query}\n",
        "\"\"\"\n",
        "\n",
        "\n",
        "user_prompt = UserRolePrompt(USER_PROMPT_TEMPLATE)\n",
        "\n",
        "class RetrievalAugmentedQAPipeline:\n",
        "    def __init__(self, llm: ChatOpenAI(), vector_db_retriever: VectorDatabase) -> None:\n",
        "        self.llm = llm\n",
        "        self.vector_db_retriever = vector_db_retriever\n",
        "\n",
        "    def run_pipeline(self, user_query: str) -> str:\n",
        "        context_list = self.vector_db_retriever.search_by_text(user_query, k=4)\n",
        "\n",
        "        context_prompt = \"\"\n",
        "        for context in context_list:\n",
        "            context_prompt += context[0] + \"\\n\"\n",
        "\n",
        "        formatted_system_prompt = rag_prompt.create_message()\n",
        "\n",
        "        formatted_user_prompt = user_prompt.create_message(user_query=user_query, context=context_prompt)\n",
        "\n",
        "        return {\"response\" : self.llm.run([formatted_system_prompt, formatted_user_prompt]), \"context\" : context_list}"
      ]
    },
    {
      "cell_type": "markdown",
      "metadata": {
        "id": "zZIJI19uR6yz"
      },
      "source": [
        "#### ❓ Question #4:\n",
        "\n",
        "What prompting strategies could you use to make the LLM have a more thoughtful, detailed response?\n",
        "\n",
        "What is that strategy called?\n",
        "\n",
        "> NOTE: You can look through the Week 1 Day 1 \"Prompting OpenAI Like A Developer\" material for an answer to this question!"
      ]
    },
    {
      "cell_type": "code",
      "execution_count": 77,
      "metadata": {
        "id": "kqbE9fZ6R6yz"
      },
      "outputs": [],
      "source": [
        "retrieval_augmented_qa_pipeline = RetrievalAugmentedQAPipeline(\n",
        "    vector_db_retriever=vector_db,\n",
        "    llm=chat_openai\n",
        ")"
      ]
    },
    {
      "cell_type": "code",
      "execution_count": 78,
      "metadata": {
        "colab": {
          "base_uri": "https://localhost:8080/"
        },
        "id": "jAGhaCGOR6yz",
        "outputId": "e4fb3a1b-d2bc-4e18-ec31-dc0adf767163"
      },
      "outputs": [
        {
          "data": {
            "text/plain": [
              "{'response': 'The \\'Michael Eisner Memorial Weak Executive Problem\\' refers to the phenomenon where a CEO, who has a strong background in a specific function (like product management, sales, or marketing), hires someone weak to run that function. The CEO may do this to maintain a sense of control or relevance in their former area of expertise, thereby hiring a less competent executive in order to be \"the man\" in that domain. This problem is illustrated by the example of Michael Eisner, who, despite being a brilliant TV network executive, presided over a decline in ABC\\'s performance after acquiring it for Disney. His remarks about needing more time to turn things around highlighted the consequences of hiring a weak executive in a critical area.',\n",
              " 'context': [('ordingly.\\nSeventh, when hiring the executive to run your former specialty, be\\ncareful you don’t hire someone weak on purpose.\\nThis sounds silly, but you wouldn’t believe how oaen it happens.\\nThe CEO who used to be a product manager who has a weak\\nproduct management executive. The CEO who used to be in\\nsales who has a weak sales executive. The CEO who used to be\\nin marketing who has a weak marketing executive.\\nI call this the “Michael Eisner Memorial Weak Executive Problem” — aaer the CEO of Disney who had previously been a brilliant TV network executive. When he bought ABC at Disney, it\\npromptly fell to fourth place. His response? “If I had an extra\\ntwo days a week, I could turn around ABC myself.” Well, guess\\nwhat, he didn’t have an extra two days a week.\\nA CEO — or a startup founder — oaen has a hard time letting\\ngo of the function that brought him to the party. The result: you\\nhire someone weak into the executive role for that function so\\nthat you can continue to be “the man” — cons',\n",
              "   array([ 0.02373935,  0.0163976 ,  0.0109292 , ..., -0.01133876,\n",
              "          -0.00271524, -0.01093679])),\n",
              "  ('m. They have areas where they are truly deXcient in judgment or skill set. That’s just life. Almost nobody is brilliant\\nat everything. When hiring and when Hring executives, you\\nmust therefore focus on strength rather than lack of weakness. Everybody has severe weaknesses even if you can’t see\\nthem yet. When managing, it’s oaen useful to micromanage and\\nto provide remedial training around these weaknesses. Doing so\\nmay make the diWerence between an executive succeeding or\\nfailing.\\nFor example, you might have a brilliant engineering executive\\nwho generates excellent team loyalty, has terriXc product judgment and makes the trains run on time. This same executive\\nmay be very poor at relating to the other functions in the company. She may generate far more than her share of cross-functional conYicts, cut herself oW from critical information, and\\nsigniXcantly impede your ability to sell and market eWectively.\\nYour alternatives are:\\n(a) Macro-manage and give her an annual or quarterly object',\n",
              "   array([ 0.02762543,  0.04382821,  0.0626073 , ..., -0.02320226,\n",
              "          -0.01930676, -0.00599844])),\n",
              "  ('ed?\\nIn reality — as opposed to Marc’s warped view of reality — it will\\nbe extremely helpful for Marc [if he were actually the CEO,\\nwhich he is not] to meet with the new head of engineering daily\\nwhen she comes on board and review all of her thinking and\\ndecisions. This level of micromanagement will accelerate her\\ntraining and improve her long-term eWectiveness. It will make\\nher seem smarter to the rest of the organization which will build\\ncredibility and conXdence while she comes up to speed. Micromanaging new executives is generally a good idea for a limited\\nperiod of time.\\nHowever, that is not the only time that it makes sense to micro66 The Pmarca Blog Archives\\nmanage executives. It turns out that just about every executive\\nin the world has a few things that are seriously wrong with\\nthem. They have areas where they are truly deXcient in judgment or skill set. That’s just life. Almost nobody is brilliant\\nat everything. When hiring and when Hring executives, you\\nmust therefore focus o',\n",
              "   array([ 0.02196984,  0.0321991 ,  0.03401269, ..., -0.03242183,\n",
              "           0.01386439, -0.01526435])),\n",
              "  ('nYicts, cut herself oW from critical information, and\\nsigniXcantly impede your ability to sell and market eWectively.\\nYour alternatives are:\\n(a) Macro-manage and give her an annual or quarterly objective\\nto Xx it, or…\\n(b) Intensively micromanage her interactions until she learns\\nthe fundamental interpersonal skills required to be an eWective\\nexecutive.\\nI am arguing that doing (a) will likely result in weak performance. The reason is that she very likely has no idea how to be\\neWective with her peers. If somebody is an executive, it’s very\\nlikely that somewhere along the line somebody gave her feedback — perhaps abstractly — about all of her weaknesses. Yet\\nthe weakness remains. As a result, executives generally require\\nmore hands-on management than lower level employees to\\nimprove weak areas.\\nSo, micromanagement is like Xne wine. A little at the right times\\nwill really enhance things; too much all the time and you’ll end\\nup in rehab.\\nPart 8: Hiring, managing, promoting, and Dring execut',\n",
              "   array([ 0.02291772,  0.04430447,  0.04661655, ..., -0.03386886,\n",
              "           0.00575286, -0.0027495 ]))]}"
            ]
          },
          "execution_count": 78,
          "metadata": {},
          "output_type": "execute_result"
        }
      ],
      "source": [
        "retrieval_augmented_qa_pipeline.run_pipeline(\"What is the 'Michael Eisner Memorial Weak Executive Problem'?\")"
      ]
    },
    {
      "cell_type": "markdown",
      "metadata": {},
      "source": [
        "### 🏗️ Activity #1:\n",
        "\n",
        "Enhance your RAG application in some way! \n",
        "\n",
        "Suggestions are: \n",
        "\n",
        "- Allow it to work with PDF files\n",
        "- Implement a new distance metric\n",
        "- Add metadata support to the vector database\n",
        "\n",
        "While these are suggestions, you should feel free to make whatever augmentations you desire! \n",
        "\n",
        "> NOTE: These additions might require you to work within the `aimakerspace` library - that's expected!"
      ]
    },
    {
      "cell_type": "code",
      "execution_count": 86,
      "metadata": {},
      "outputs": [
        {
          "name": "stdout",
          "output_type": "stream",
          "text": [
            "Answer: The \"Michael Eisner Memorial Weak Executive Problem\" refers to the tendency of a CEO or founder to hire someone weak for an executive role in their former area of expertise, in order to maintain control and continue to be seen as the leading authority in that function. This pattern can lead to poor performance within that department, as the executive hired may lack the necessary strength or skills, allowing the CEO to feel more comfortable remaining involved in the decision-making process. The term is named after Michael Eisner, the former CEO of Disney, who struggled to turnaround ABC after acquiring it, reflecting how a strong leader can sometimes hire less capable executives to avoid relinquishing control.\n",
            "Confidence: 8/10\n",
            "Context snippets:\n",
            "1. ordingly.\n",
            "Seventh, when hiring the executive to run your former specialty, be\n",
            "careful you don’t hire...\n",
            "2. ed?\n",
            "In reality — as opposed to Marc’s warped view of reality — it will\n",
            "be extremely helpful for Marc...\n",
            "3. nYicts, cut herself oW from critical information, and\n",
            "signiXcantly impede your ability to sell and m...\n",
            "4. ummy\n",
            "decision is no fun to work for. However, it is wrong to condemn\n",
            "the practice of micromanagement...\n"
          ]
        }
      ],
      "source": [
        "from typing import List, Tuple\n",
        "\n",
        "class ConfidenceEnhancedRAGPipeline:\n",
        "    def __init__(self, vector_db_retriever: VectorDatabase, llm: ChatOpenAI):\n",
        "        self.vector_db_retriever = vector_db_retriever\n",
        "        self.llm = llm\n",
        "\n",
        "    def run_pipeline(self, user_query: str) -> dict:\n",
        "        # Retrieve context\n",
        "        context_list = self.vector_db_retriever.search_by_text(user_query, k=4)\n",
        "\n",
        "        # Extract the text from the search results\n",
        "        context_texts = [item[0] for item in context_list]\n",
        "        context_prompt = \"\\n\".join(context_texts)\n",
        "\n",
        "        formatted_system_prompt = rag_prompt.create_message()\n",
        "        formatted_user_prompt = user_prompt.create_message(user_query=user_query, context=context_prompt)\n",
        "\n",
        "        # Get initial response\n",
        "        initial_response = self.llm.run([\n",
        "            formatted_system_prompt,\n",
        "            formatted_user_prompt\n",
        "        ])\n",
        "\n",
        "        # Ask for confidence\n",
        "        confidence_query = f\"Based on the following response to the query '{user_query}', rate your confidence in the answer on a scale of 1-10, with 10 being most confident. Only respond with a number.\\n\\nResponse: {initial_response}\"\n",
        "        \n",
        "        confidence_result = self.llm.run([\n",
        "            {\"role\": \"user\", \"content\": confidence_query}\n",
        "        ])\n",
        "\n",
        "        try:\n",
        "            confidence = int(confidence_result.strip())\n",
        "        except ValueError:\n",
        "            confidence = 0  # Default to 0 if parsing fails\n",
        "\n",
        "        return {\n",
        "            \"response\": initial_response.strip(),\n",
        "            \"context\": context_texts,\n",
        "            \"confidence\": confidence\n",
        "        }\n",
        "\n",
        "# Usage\n",
        "enhanced_pipeline = ConfidenceEnhancedRAGPipeline(\n",
        "    vector_db_retriever=vector_db,\n",
        "    llm=chat_openai\n",
        ")\n",
        "\n",
        "# Run the pipeline\n",
        "result = enhanced_pipeline.run_pipeline(\"What is the Michael Eisner Problem?\")\n",
        "print(f\"Answer: {result['response']}\")\n",
        "print(f\"Confidence: {result['confidence']}/10\")\n",
        "print(\"Context snippets:\")\n",
        "for i, context in enumerate(result['context'], 1):\n",
        "    print(f\"{i}. {context[:100]}...\")  # Print first 100 characters of each context"
      ]
    }
  ],
  "metadata": {
    "colab": {
      "provenance": []
    },
    "kernelspec": {
      "display_name": "buildyourownlangchain",
      "language": "python",
      "name": "python3"
    },
    "language_info": {
      "codemirror_mode": {
        "name": "ipython",
        "version": 3
      },
      "file_extension": ".py",
      "mimetype": "text/x-python",
      "name": "python",
      "nbconvert_exporter": "python",
      "pygments_lexer": "ipython3",
      "version": "3.8.19"
    },
    "orig_nbformat": 4,
    "widgets": {
      "application/vnd.jupyter.widget-state+json": {
        "1ce393d9afcf427d9d352259c5d32678": {
          "model_module": "@jupyter-widgets/controls",
          "model_module_version": "1.5.0",
          "model_name": "FloatProgressModel",
          "state": {
            "_dom_classes": [],
            "_model_module": "@jupyter-widgets/controls",
            "_model_module_version": "1.5.0",
            "_model_name": "FloatProgressModel",
            "_view_count": null,
            "_view_module": "@jupyter-widgets/controls",
            "_view_module_version": "1.5.0",
            "_view_name": "ProgressView",
            "bar_style": "",
            "description": "",
            "description_tooltip": null,
            "layout": "IPY_MODEL_4e6efd99f7d346e485b002fb0fa85cc7",
            "max": 1,
            "min": 0,
            "orientation": "horizontal",
            "style": "IPY_MODEL_3dfb67c39958461da6071e4c19c3fa41",
            "value": 1
          }
        },
        "3a4ba348cb004f8ab7b2b1395539c81b": {
          "model_module": "@jupyter-widgets/controls",
          "model_module_version": "1.5.0",
          "model_name": "LabelModel",
          "state": {
            "_dom_classes": [],
            "_model_module": "@jupyter-widgets/controls",
            "_model_module_version": "1.5.0",
            "_model_name": "LabelModel",
            "_view_count": null,
            "_view_module": "@jupyter-widgets/controls",
            "_view_module_version": "1.5.0",
            "_view_name": "LabelView",
            "description": "",
            "description_tooltip": null,
            "layout": "IPY_MODEL_d2ea5009dd16442cb5d8a0ac468e50a8",
            "placeholder": "​",
            "style": "IPY_MODEL_5f00135fe1044051a50ee5e841cbb8e3",
            "value": "0.018 MB of 0.018 MB uploaded\r"
          }
        },
        "3dfb67c39958461da6071e4c19c3fa41": {
          "model_module": "@jupyter-widgets/controls",
          "model_module_version": "1.5.0",
          "model_name": "ProgressStyleModel",
          "state": {
            "_model_module": "@jupyter-widgets/controls",
            "_model_module_version": "1.5.0",
            "_model_name": "ProgressStyleModel",
            "_view_count": null,
            "_view_module": "@jupyter-widgets/base",
            "_view_module_version": "1.2.0",
            "_view_name": "StyleView",
            "bar_color": null,
            "description_width": ""
          }
        },
        "4e6efd99f7d346e485b002fb0fa85cc7": {
          "model_module": "@jupyter-widgets/base",
          "model_module_version": "1.2.0",
          "model_name": "LayoutModel",
          "state": {
            "_model_module": "@jupyter-widgets/base",
            "_model_module_version": "1.2.0",
            "_model_name": "LayoutModel",
            "_view_count": null,
            "_view_module": "@jupyter-widgets/base",
            "_view_module_version": "1.2.0",
            "_view_name": "LayoutView",
            "align_content": null,
            "align_items": null,
            "align_self": null,
            "border": null,
            "bottom": null,
            "display": null,
            "flex": null,
            "flex_flow": null,
            "grid_area": null,
            "grid_auto_columns": null,
            "grid_auto_flow": null,
            "grid_auto_rows": null,
            "grid_column": null,
            "grid_gap": null,
            "grid_row": null,
            "grid_template_areas": null,
            "grid_template_columns": null,
            "grid_template_rows": null,
            "height": null,
            "justify_content": null,
            "justify_items": null,
            "left": null,
            "margin": null,
            "max_height": null,
            "max_width": null,
            "min_height": null,
            "min_width": null,
            "object_fit": null,
            "object_position": null,
            "order": null,
            "overflow": null,
            "overflow_x": null,
            "overflow_y": null,
            "padding": null,
            "right": null,
            "top": null,
            "visibility": null,
            "width": null
          }
        },
        "56a8e24025594e5e9ff3b8581c344691": {
          "model_module": "@jupyter-widgets/base",
          "model_module_version": "1.2.0",
          "model_name": "LayoutModel",
          "state": {
            "_model_module": "@jupyter-widgets/base",
            "_model_module_version": "1.2.0",
            "_model_name": "LayoutModel",
            "_view_count": null,
            "_view_module": "@jupyter-widgets/base",
            "_view_module_version": "1.2.0",
            "_view_name": "LayoutView",
            "align_content": null,
            "align_items": null,
            "align_self": null,
            "border": null,
            "bottom": null,
            "display": null,
            "flex": null,
            "flex_flow": null,
            "grid_area": null,
            "grid_auto_columns": null,
            "grid_auto_flow": null,
            "grid_auto_rows": null,
            "grid_column": null,
            "grid_gap": null,
            "grid_row": null,
            "grid_template_areas": null,
            "grid_template_columns": null,
            "grid_template_rows": null,
            "height": null,
            "justify_content": null,
            "justify_items": null,
            "left": null,
            "margin": null,
            "max_height": null,
            "max_width": null,
            "min_height": null,
            "min_width": null,
            "object_fit": null,
            "object_position": null,
            "order": null,
            "overflow": null,
            "overflow_x": null,
            "overflow_y": null,
            "padding": null,
            "right": null,
            "top": null,
            "visibility": null,
            "width": null
          }
        },
        "5f00135fe1044051a50ee5e841cbb8e3": {
          "model_module": "@jupyter-widgets/controls",
          "model_module_version": "1.5.0",
          "model_name": "DescriptionStyleModel",
          "state": {
            "_model_module": "@jupyter-widgets/controls",
            "_model_module_version": "1.5.0",
            "_model_name": "DescriptionStyleModel",
            "_view_count": null,
            "_view_module": "@jupyter-widgets/base",
            "_view_module_version": "1.2.0",
            "_view_name": "StyleView",
            "description_width": ""
          }
        },
        "bb904e05ece143c79ecc4f20de482f45": {
          "model_module": "@jupyter-widgets/controls",
          "model_module_version": "1.5.0",
          "model_name": "VBoxModel",
          "state": {
            "_dom_classes": [],
            "_model_module": "@jupyter-widgets/controls",
            "_model_module_version": "1.5.0",
            "_model_name": "VBoxModel",
            "_view_count": null,
            "_view_module": "@jupyter-widgets/controls",
            "_view_module_version": "1.5.0",
            "_view_name": "VBoxView",
            "box_style": "",
            "children": [
              "IPY_MODEL_3a4ba348cb004f8ab7b2b1395539c81b",
              "IPY_MODEL_1ce393d9afcf427d9d352259c5d32678"
            ],
            "layout": "IPY_MODEL_56a8e24025594e5e9ff3b8581c344691"
          }
        },
        "d2ea5009dd16442cb5d8a0ac468e50a8": {
          "model_module": "@jupyter-widgets/base",
          "model_module_version": "1.2.0",
          "model_name": "LayoutModel",
          "state": {
            "_model_module": "@jupyter-widgets/base",
            "_model_module_version": "1.2.0",
            "_model_name": "LayoutModel",
            "_view_count": null,
            "_view_module": "@jupyter-widgets/base",
            "_view_module_version": "1.2.0",
            "_view_name": "LayoutView",
            "align_content": null,
            "align_items": null,
            "align_self": null,
            "border": null,
            "bottom": null,
            "display": null,
            "flex": null,
            "flex_flow": null,
            "grid_area": null,
            "grid_auto_columns": null,
            "grid_auto_flow": null,
            "grid_auto_rows": null,
            "grid_column": null,
            "grid_gap": null,
            "grid_row": null,
            "grid_template_areas": null,
            "grid_template_columns": null,
            "grid_template_rows": null,
            "height": null,
            "justify_content": null,
            "justify_items": null,
            "left": null,
            "margin": null,
            "max_height": null,
            "max_width": null,
            "min_height": null,
            "min_width": null,
            "object_fit": null,
            "object_position": null,
            "order": null,
            "overflow": null,
            "overflow_x": null,
            "overflow_y": null,
            "padding": null,
            "right": null,
            "top": null,
            "visibility": null,
            "width": null
          }
        }
      }
    }
  },
  "nbformat": 4,
  "nbformat_minor": 0
}
